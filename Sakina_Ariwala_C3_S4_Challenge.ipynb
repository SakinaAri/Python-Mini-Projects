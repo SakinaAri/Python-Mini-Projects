{
 "cells": [
  {
   "cell_type": "markdown",
   "id": "c53b2a0d",
   "metadata": {},
   "source": [
    "# Sakina_Ariwala_C3_S4_Challenge"
   ]
  },
  {
   "cell_type": "markdown",
   "id": "3e1e7b37",
   "metadata": {},
   "source": [
    "# CREATE A MCQ QUIZ"
   ]
  },
  {
   "cell_type": "code",
   "execution_count": null,
   "id": "3cc653c7",
   "metadata": {},
   "outputs": [],
   "source": [
    "#question"
   ]
  },
  {
   "cell_type": "code",
   "execution_count": 1,
   "id": "90dc3dc3",
   "metadata": {},
   "outputs": [
    {
     "name": "stdout",
     "output_type": "stream",
     "text": [
      "Q1) What are keywords?\n",
      "a) variable\n",
      "b) reserve words\n",
      "c) functions\n",
      "d) constant\n"
     ]
    }
   ],
   "source": [
    "q1 = \"\"\"Q1) What are keywords?\n",
    "a) variable\n",
    "b) reserve words\n",
    "c) functions\n",
    "d) constant\"\"\"\n",
    "print(q1)"
   ]
  },
  {
   "cell_type": "code",
   "execution_count": 2,
   "id": "5716ce34",
   "metadata": {},
   "outputs": [
    {
     "name": "stdout",
     "output_type": "stream",
     "text": [
      "Q2) What is a list?\n",
      "a) Data Structure\n",
      "b) Variable\n",
      "c) Class\n",
      "d) Operators\n"
     ]
    }
   ],
   "source": [
    "q2 = \"\"\"Q2) What is a list?\n",
    "a) Data Structure\n",
    "b) Variable\n",
    "c) Class\n",
    "d) Operators\"\"\"\n",
    "print(q2)"
   ]
  },
  {
   "cell_type": "code",
   "execution_count": 3,
   "id": "f1519758",
   "metadata": {},
   "outputs": [
    {
     "name": "stdout",
     "output_type": "stream",
     "text": [
      "Q3) 2. Which type of Programming does Python support?\n",
      "a) object-oriented programming\n",
      "b) structured programming\n",
      "c) functional programming\n",
      "d) all of the mentioned\n"
     ]
    }
   ],
   "source": [
    "q3 = \"\"\"Q3) 2. Which type of Programming does Python support?\n",
    "a) object-oriented programming\n",
    "b) structured programming\n",
    "c) functional programming\n",
    "d) all of the mentioned\"\"\"\n",
    "print(q3)"
   ]
  },
  {
   "cell_type": "code",
   "execution_count": 4,
   "id": "af68fcde",
   "metadata": {},
   "outputs": [
    {
     "name": "stdout",
     "output_type": "stream",
     "text": [
      " Q4) All keywords in Python are in _________\n",
      "a) Capitalized\n",
      "b) lower case\n",
      "c) UPPER CASE\n",
      "d) None of the mentioned\n"
     ]
    }
   ],
   "source": [
    "q4 = \"\"\" Q4) All keywords in Python are in _________\n",
    "a) Capitalized\n",
    "b) lower case\n",
    "c) UPPER CASE\n",
    "d) None of the mentioned\"\"\"\n",
    "print(q4)"
   ]
  },
  {
   "cell_type": "code",
   "execution_count": 5,
   "id": "067e9142",
   "metadata": {},
   "outputs": [
    {
     "name": "stdout",
     "output_type": "stream",
     "text": [
      "Q5) Which keyword is used for function in Python language?\n",
      "a) Function\n",
      "b) Def\n",
      "c) Fun\n",
      "d) Define\n"
     ]
    }
   ],
   "source": [
    "q5 = \"\"\"Q5) Which keyword is used for function in Python language?\n",
    "a) Function\n",
    "b) Def\n",
    "c) Fun\n",
    "d) Define\"\"\"\n",
    "print(q5)"
   ]
  },
  {
   "cell_type": "code",
   "execution_count": 6,
   "id": "b834deb2",
   "metadata": {},
   "outputs": [
    {
     "name": "stdout",
     "output_type": "stream",
     "text": [
      "Q6)  Which of the following character is used to give single-line comments in Python?\n",
      "a) //\n",
      "b) #\n",
      "c) !\n",
      "d) /*\n"
     ]
    }
   ],
   "source": [
    "q6 = \"\"\"Q6)  Which of the following character is used to give single-line comments in Python?\n",
    "a) //\n",
    "b) #\n",
    "c) !\n",
    "d) /*\"\"\"\n",
    "print(q6)"
   ]
  },
  {
   "cell_type": "code",
   "execution_count": 7,
   "id": "f120e4ba",
   "metadata": {},
   "outputs": [
    {
     "name": "stdout",
     "output_type": "stream",
     "text": [
      "Q7) What is the order of precedence in python?\n",
      "a) Exponential, Parentheses, Multiplication, Division, Addition, Subtraction\n",
      "b) Exponential, Parentheses, Division, Multiplication, Addition, Subtraction\n",
      "c) Parentheses, Exponential, Multiplication, Division, Subtraction, Addition\n",
      "d) Parentheses, Exponential, Multiplication, Division, Addition, Subtraction\n"
     ]
    }
   ],
   "source": [
    "q7 = \"\"\"Q7) What is the order of precedence in python?\n",
    "a) Exponential, Parentheses, Multiplication, Division, Addition, Subtraction\n",
    "b) Exponential, Parentheses, Division, Multiplication, Addition, Subtraction\n",
    "c) Parentheses, Exponential, Multiplication, Division, Subtraction, Addition\n",
    "d) Parentheses, Exponential, Multiplication, Division, Addition, Subtraction\"\"\"\n",
    "print(q7)"
   ]
  },
  {
   "cell_type": "code",
   "execution_count": 8,
   "id": "56822769",
   "metadata": {},
   "outputs": [
    {
     "name": "stdout",
     "output_type": "stream",
     "text": [
      "Q8) Which of the following is the use of id() function in python?\n",
      "a) Every object doesn’t have a unique id\n",
      "b) Id returns the identity of the object\n",
      "c) All of the mentioned\n",
      "d) None of the mentioned\n"
     ]
    }
   ],
   "source": [
    "q8 = \"\"\"Q8) Which of the following is the use of id() function in python?\n",
    "a) Every object doesn’t have a unique id\n",
    "b) Id returns the identity of the object\n",
    "c) All of the mentioned\n",
    "d) None of the mentioned\"\"\"\n",
    "print(q8)"
   ]
  },
  {
   "cell_type": "code",
   "execution_count": 9,
   "id": "c2be9eb2",
   "metadata": {},
   "outputs": [
    {
     "name": "stdout",
     "output_type": "stream",
     "text": [
      "Q9) What will be the output of the following Python statement?\n",
      "            \"a\"+\"bc\"\n",
      "a) bc\n",
      "b) abc\n",
      "c) a\n",
      "d) bca\n"
     ]
    }
   ],
   "source": [
    "q9 = \"\"\"Q9) What will be the output of the following Python statement?\n",
    "            \"a\"+\"bc\"\n",
    "a) bc\n",
    "b) abc\n",
    "c) a\n",
    "d) bca\"\"\"\n",
    "print(q9)"
   ]
  },
  {
   "cell_type": "code",
   "execution_count": 10,
   "id": "1796cf08",
   "metadata": {},
   "outputs": [
    {
     "name": "stdout",
     "output_type": "stream",
     "text": [
      "Q10) What arithmetic operators cannot be used with strings in Python?\n",
      "a) *\n",
      "b) –\n",
      "c) +\n",
      "d) All of the mentioned\n"
     ]
    }
   ],
   "source": [
    "q10 = \"\"\"Q10) What arithmetic operators cannot be used with strings in Python?\n",
    "a) *\n",
    "b) –\n",
    "c) +\n",
    "d) All of the mentioned\"\"\"\n",
    "print(q10)"
   ]
  },
  {
   "cell_type": "code",
   "execution_count": 11,
   "id": "169bb370",
   "metadata": {},
   "outputs": [
    {
     "name": "stdout",
     "output_type": "stream",
     "text": [
      "{'Q1) What are keywords?\\na) variable\\nb) reserve words\\nc) functions\\nd) constant': 'b', 'Q2) What is a list?\\na) Data Structure\\nb) Variable\\nc) Class\\nd) Operators': 'a', 'Q3) 2. Which type of Programming does Python support?\\na) object-oriented programming\\nb) structured programming\\nc) functional programming\\nd) all of the mentioned': 'd', ' Q4) All keywords in Python are in _________\\na) Capitalized\\nb) lower case\\nc) UPPER CASE\\nd) None of the mentioned': 'd', 'Q5) Which keyword is used for function in Python language?\\na) Function\\nb) Def\\nc) Fun\\nd) Define': 'b', 'Q6)  Which of the following character is used to give single-line comments in Python?\\na) //\\nb) #\\nc) !\\nd) /*': 'b', 'Q7) What is the order of precedence in python?\\na) Exponential, Parentheses, Multiplication, Division, Addition, Subtraction\\nb) Exponential, Parentheses, Division, Multiplication, Addition, Subtraction\\nc) Parentheses, Exponential, Multiplication, Division, Subtraction, Addition\\nd) Parentheses, Exponential, Multiplication, Division, Addition, Subtraction': 'd', 'Q8) Which of the following is the use of id() function in python?\\na) Every object doesn’t have a unique id\\nb) Id returns the identity of the object\\nc) All of the mentioned\\nd) None of the mentioned': 'b', 'Q9) What will be the output of the following Python statement?\\n            \"a\"+\"bc\"\\na) bc\\nb) abc\\nc) a\\nd) bca': 'b', 'Q10) What arithmetic operators cannot be used with strings in Python?\\na) *\\nb) –\\nc) +\\nd) All of the mentioned': 'b'}\n"
     ]
    }
   ],
   "source": [
    "question ={q1: 'b', q2 : 'a',q3 :'d',q4 : 'd',q5:'b', q6 : 'b', q7 : 'd', q8 : 'b', q9 : 'b', q10 : 'b'}\n",
    "print(question)"
   ]
  },
  {
   "cell_type": "code",
   "execution_count": 12,
   "id": "12f3f8c6",
   "metadata": {},
   "outputs": [
    {
     "name": "stdout",
     "output_type": "stream",
     "text": [
      "Q1) What are keywords?\n",
      "a) variable\n",
      "b) reserve words\n",
      "c) functions\n",
      "d) constant\n",
      "Q2) What is a list?\n",
      "a) Data Structure\n",
      "b) Variable\n",
      "c) Class\n",
      "d) Operators\n",
      "Q3) 2. Which type of Programming does Python support?\n",
      "a) object-oriented programming\n",
      "b) structured programming\n",
      "c) functional programming\n",
      "d) all of the mentioned\n",
      " Q4) All keywords in Python are in _________\n",
      "a) Capitalized\n",
      "b) lower case\n",
      "c) UPPER CASE\n",
      "d) None of the mentioned\n",
      "Q5) Which keyword is used for function in Python language?\n",
      "a) Function\n",
      "b) Def\n",
      "c) Fun\n",
      "d) Define\n",
      "Q6)  Which of the following character is used to give single-line comments in Python?\n",
      "a) //\n",
      "b) #\n",
      "c) !\n",
      "d) /*\n",
      "Q7) What is the order of precedence in python?\n",
      "a) Exponential, Parentheses, Multiplication, Division, Addition, Subtraction\n",
      "b) Exponential, Parentheses, Division, Multiplication, Addition, Subtraction\n",
      "c) Parentheses, Exponential, Multiplication, Division, Subtraction, Addition\n",
      "d) Parentheses, Exponential, Multiplication, Division, Addition, Subtraction\n",
      "Q8) Which of the following is the use of id() function in python?\n",
      "a) Every object doesn’t have a unique id\n",
      "b) Id returns the identity of the object\n",
      "c) All of the mentioned\n",
      "d) None of the mentioned\n",
      "Q9) What will be the output of the following Python statement?\n",
      "            \"a\"+\"bc\"\n",
      "a) bc\n",
      "b) abc\n",
      "c) a\n",
      "d) bca\n",
      "Q10) What arithmetic operators cannot be used with strings in Python?\n",
      "a) *\n",
      "b) –\n",
      "c) +\n",
      "d) All of the mentioned\n"
     ]
    }
   ],
   "source": [
    "for key in question:\n",
    "    print(key)"
   ]
  },
  {
   "cell_type": "code",
   "execution_count": 20,
   "id": "19b3ed11",
   "metadata": {
    "scrolled": false
   },
   "outputs": [
    {
     "name": "stdout",
     "output_type": "stream",
     "text": [
      "Enter your name : Sakina\n",
      "\n",
      "Q1) What are keywords?\n",
      "a) variable\n",
      "b) reserve words\n",
      "c) functions\n",
      "d) constant\n",
      "Do you want to skip the question (yes/no):- no\n",
      "\n",
      "Enter your answer (a/b/c/d):- b\n",
      "\n",
      "You have got the right answer!\n",
      "\n",
      "Q2) What is a list?\n",
      "a) Data Structure\n",
      "b) Variable\n",
      "c) Class\n",
      "d) Operators\n",
      "Do you want to skip the question (yes/no):- no\n",
      "\n",
      "Enter your answer (a/b/c/d):- a\n",
      "\n",
      "You have got the right answer!\n",
      "\n",
      "Q3) 2. Which type of Programming does Python support?\n",
      "a) object-oriented programming\n",
      "b) structured programming\n",
      "c) functional programming\n",
      "d) all of the mentioned\n",
      "Do you want to skip the question (yes/no):- no\n",
      "\n",
      "Enter your answer (a/b/c/d):- d\n",
      "\n",
      "You have got the right answer!\n",
      "\n",
      " Q4) All keywords in Python are in _________\n",
      "a) Capitalized\n",
      "b) lower case\n",
      "c) UPPER CASE\n",
      "d) None of the mentioned\n",
      "Do you want to skip the question (yes/no):- no\n",
      "\n",
      "Enter your answer (a/b/c/d):- b\n",
      "\n",
      "Incorrect!\n",
      "\n",
      "Q5) Which keyword is used for function in Python language?\n",
      "a) Function\n",
      "b) Def\n",
      "c) Fun\n",
      "d) Define\n",
      "Do you want to skip the question (yes/no):- no\n",
      "\n",
      "Enter your answer (a/b/c/d):- b\n",
      "\n",
      "You have got the right answer!\n",
      "\n",
      "Q6)  Which of the following character is used to give single-line comments in Python?\n",
      "a) //\n",
      "b) #\n",
      "c) !\n",
      "d) /*\n",
      "Do you want to skip the question (yes/no):- no\n",
      "\n",
      "Enter your answer (a/b/c/d):- b\n",
      "\n",
      "You have got the right answer!\n",
      "\n",
      "Q7) What is the order of precedence in python?\n",
      "a) Exponential, Parentheses, Multiplication, Division, Addition, Subtraction\n",
      "b) Exponential, Parentheses, Division, Multiplication, Addition, Subtraction\n",
      "c) Parentheses, Exponential, Multiplication, Division, Subtraction, Addition\n",
      "d) Parentheses, Exponential, Multiplication, Division, Addition, Subtraction\n",
      "Do you want to skip the question (yes/no):- no\n",
      "\n",
      "Enter your answer (a/b/c/d):- d\n",
      "\n",
      "You have got the right answer!\n",
      "\n",
      "Q8) Which of the following is the use of id() function in python?\n",
      "a) Every object doesn’t have a unique id\n",
      "b) Id returns the identity of the object\n",
      "c) All of the mentioned\n",
      "d) None of the mentioned\n",
      "Do you want to skip the question (yes/no):- c\n",
      "\n",
      "Enter your answer (a/b/c/d):- c\n",
      "\n",
      "Incorrect!\n",
      "\n",
      "Q9) What will be the output of the following Python statement?\n",
      "            \"a\"+\"bc\"\n",
      "a) bc\n",
      "b) abc\n",
      "c) a\n",
      "d) bca\n",
      "Do you want to skip the question (yes/no):- no\n",
      "\n",
      "Enter your answer (a/b/c/d):- b\n",
      "\n",
      "You have got the right answer!\n",
      "\n",
      "Q10) What arithmetic operators cannot be used with strings in Python?\n",
      "a) *\n",
      "b) –\n",
      "c) +\n",
      "d) All of the mentioned\n",
      "Do you want to skip the question (yes/no):- no\n",
      "\n",
      "Enter your answer (a/b/c/d):- b\n",
      "\n",
      "You have got the right answer!\n",
      "\n",
      "Hello! Sakina Your final score is : 80.0 %\n"
     ]
    }
   ],
   "source": [
    "name = input('Enter your name : ')\n",
    "print()\n",
    "score = 0 \n",
    "for key in question:\n",
    "    print(key)\n",
    "    choice = input('Do you want to skip the question (yes/no):- ')\n",
    "    print()\n",
    "    if choice == 'yes':\n",
    "        continue\n",
    "    response = input('Enter your answer (a/b/c/d):- ')\n",
    "    print()\n",
    "    if response==question[key]:\n",
    "        print('You have got the right answer!')\n",
    "        print()\n",
    "        score +=1 \n",
    "    else:\n",
    "        print('Incorrect!')\n",
    "        print()\n",
    "print('Hello!',name,'Your final score is :', score/len(question)*100, '%')   "
   ]
  },
  {
   "cell_type": "code",
   "execution_count": null,
   "id": "a77c1b42",
   "metadata": {},
   "outputs": [],
   "source": []
  },
  {
   "cell_type": "code",
   "execution_count": null,
   "id": "a3ee22d7",
   "metadata": {},
   "outputs": [],
   "source": []
  }
 ],
 "metadata": {
  "kernelspec": {
   "display_name": "Python 3 (ipykernel)",
   "language": "python",
   "name": "python3"
  },
  "language_info": {
   "codemirror_mode": {
    "name": "ipython",
    "version": 3
   },
   "file_extension": ".py",
   "mimetype": "text/x-python",
   "name": "python",
   "nbconvert_exporter": "python",
   "pygments_lexer": "ipython3",
   "version": "3.9.12"
  }
 },
 "nbformat": 4,
 "nbformat_minor": 5
}
